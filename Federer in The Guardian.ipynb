{
 "cells": [
  {
   "cell_type": "code",
   "execution_count": null,
   "id": "measured-whale",
   "metadata": {},
   "outputs": [],
   "source": [
    "import requests\n",
    "import json\n",
    "import pandas as pd\n",
    "\n",
    "params = {\n",
    "    'q': 'roger+federer',\n",
    "    'api-key': 'API_KEY',\n",
    "    'page-size': 50,\n",
    "    'from-date': '1998-01-01',\n",
    "    'order-by': 'oldest'\n",
    "}\n",
    "\n",
    "fed_dict = {\n",
    "    'url': [],\n",
    "    'title': [],\n",
    "    'date': []\n",
    "}\n",
    "\n",
    "for page in range(1,266):\n",
    "\n",
    "    url = f'https://content.guardianapis.com/search?page={page}'\n",
    "\n",
    "    response = requests.get(url, params=params)\n",
    "    \n",
    "    r = response.json()\n",
    "    \n",
    "    for i in range(0,50):\n",
    "        \n",
    "        if 'Federer' in r['response']['results'][i]['webTitle']:\n",
    "        \n",
    "            fed_dict['url'].append(r['response']['results'][i]['webUrl'])\n",
    "            fed_dict['title'].append(r['response']['results'][i]['webTitle'])\n",
    "            fed_dict['date'].append(r['response']['results'][i]['webPublicationDate'])\n",
    "        \n",
    "fed_df = pd.DataFrame(fed_dict)\n",
    "\n",
    "fed_df"
   ]
  }
 ],
 "metadata": {
  "kernelspec": {
   "display_name": "Python 3 (ipykernel)",
   "language": "python",
   "name": "python3"
  },
  "language_info": {
   "codemirror_mode": {
    "name": "ipython",
    "version": 3
   },
   "file_extension": ".py",
   "mimetype": "text/x-python",
   "name": "python",
   "nbconvert_exporter": "python",
   "pygments_lexer": "ipython3",
   "version": "3.9.0"
  }
 },
 "nbformat": 4,
 "nbformat_minor": 5
}
